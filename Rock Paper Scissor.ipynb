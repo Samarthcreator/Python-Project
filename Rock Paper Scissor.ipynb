{
 "cells": [
  {
   "cell_type": "code",
   "execution_count": null,
   "id": "9a53ee0c-a1fb-4048-a24b-20e4fdb57388",
   "metadata": {},
   "outputs": [],
   "source": [
    "import random as r\n",
    "s = 'RPS'\n",
    "flag = True\n",
    "count1=0\n",
    "count2=0\n",
    "print(\"          Welcome to Rock paper Scissor       \")\n",
    "print(\"      You want to play with computer or two player\")\n",
    "num = int(input(\" Type 1 for computer and 2 for two player\"))\n",
    "while flag:\n",
    "    if num==1:\n",
    "        user_input = input(\"   Type R for Rock, P for Paper, S for Scissor for Player1:   \").upper()\n",
    "        comp_input = r.choice(s)\n",
    "        flags=1\n",
    "    else:\n",
    "        user_input = input(\"   Type R for Rock, P for Paper, S for Scissor for Player1:   \").upper()\n",
    "        comp_input = input(\"   Type R for Rock, P for Paper, S for Scissor for Player2:   \").upper()\n",
    "    if comp_input == \"R\" and user_input ==\"R\":\n",
    "        print(\"Draw\")\n",
    "    elif comp_input == \"R\" and user_input ==\"S\":\n",
    "        print(\"Player2 Wins\")\n",
    "        count2=count2+1\n",
    "    elif comp_input == \"R\" and user_input ==\"P\":\n",
    "        print(\"Player2 Wins\")\n",
    "        count2=count2+1\n",
    "    elif comp_input == \"P\" and user_input ==\"P\":\n",
    "        print(\"Draw\")\n",
    "    elif comp_input == \"P\" and user_input ==\"S\":\n",
    "        print(\"Player1 Wins\")\n",
    "        count1=count1+1\n",
    "    elif comp_input == \"P\" and user_input ==\"R\":\n",
    "        print(\"Player1 Wins\")\n",
    "        count1=count1+1\n",
    "    elif comp_input == \"S\" and user_input ==\"S\":\n",
    "        print(\"Draw\")\n",
    "    elif comp_input == \"S\" and user_input ==\"R\":\n",
    "        print(\"Player1 Wins\")\n",
    "        count1=count1+1\n",
    "    elif comp_input == \"S\" and user_input ==\"P\":\n",
    "        print(\"Player2 Wins\")\n",
    "        count2=count2+1\n",
    "    regame=input(\"Do you want to play more type y for yes and n for no: \")\n",
    "    if regame==\"Y\" or regame==\"y\":\n",
    "        flag=True\n",
    "    else:\n",
    "        flag=False    \n",
    "\n",
    "\n",
    "print(\"Player 1 wins \", count1, \"times\")\n",
    "print(\"Player 2 wins \", count2, \"times\")"
   ]
  }
 ],
 "metadata": {
  "kernelspec": {
   "display_name": "Python 3 (ipykernel)",
   "language": "python",
   "name": "python3"
  },
  "language_info": {
   "codemirror_mode": {
    "name": "ipython",
    "version": 3
   },
   "file_extension": ".py",
   "mimetype": "text/x-python",
   "name": "python",
   "nbconvert_exporter": "python",
   "pygments_lexer": "ipython3",
   "version": "3.12.5"
  }
 },
 "nbformat": 4,
 "nbformat_minor": 5
}
